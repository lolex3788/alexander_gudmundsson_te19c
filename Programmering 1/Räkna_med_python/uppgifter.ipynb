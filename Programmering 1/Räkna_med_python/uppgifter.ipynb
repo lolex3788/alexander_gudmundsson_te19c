{
 "metadata": {
  "language_info": {
   "codemirror_mode": {
    "name": "ipython",
    "version": 3
   },
   "file_extension": ".py",
   "mimetype": "text/x-python",
   "name": "python",
   "nbconvert_exporter": "python",
   "pygments_lexer": "ipython3",
   "version": "3.8.5-final"
  },
  "orig_nbformat": 2,
  "kernelspec": {
   "name": "python38532bitf227f9da0bfd4e87ab5d3e825325f3c1",
   "display_name": "Python 3.8.5 32-bit"
  }
 },
 "nbformat": 4,
 "nbformat_minor": 2,
 "cells": [
  {
   "cell_type": "code",
   "execution_count": 1,
   "metadata": {
    "tags": []
   },
   "outputs": [
    {
     "output_type": "stream",
     "name": "stdout",
     "text": "Tyngdkraften är: 49.1N\n"
    }
   ],
   "source": [
    "# Uppgift 1\n",
    "\n",
    "m = float(input(\"Ange din vikt i kg: \"))\n",
    "g = 9.82\n",
    "\n",
    "F = m*g\n",
    "\n",
    "print(f\"Tyngdkraften är: {m*g}N\")\n",
    "\n"
   ]
  },
  {
   "cell_type": "code",
   "execution_count": 7,
   "metadata": {
    "tags": []
   },
   "outputs": [
    {
     "output_type": "stream",
     "name": "stdout",
     "text": "0.7 = 70%\n"
    }
   ],
   "source": [
    "decimalTal = float(input(\"Skriv ett decimaltal: \"))\n",
    "\n",
    "procent = decimalTal*100\n",
    "\n",
    "print(f\"{decimalTal} = {procent:.0f}%\")\n"
   ]
  },
  {
   "cell_type": "code",
   "execution_count": 18,
   "metadata": {
    "tags": []
   },
   "outputs": [
    {
     "output_type": "stream",
     "name": "stdout",
     "text": "-272.15 grader Celsius\n274.15 grader Kelvin\n"
    }
   ],
   "source": [
    "temperatur = float(input(\"Skriv in en temperatur i Kelvn eller celsius så får du det motsatta: \"))\n",
    "\n",
    "# 1 Kelvin = -272,15 grader celsius\n",
    "# 1 celsius = 274,15 grader kelvin \n",
    "\n",
    "celsius = temperatur-273.15\n",
    "kelvin = temperatur+273.15\n",
    "\n",
    "\n",
    "print(f\"{celsius} grader Celsius\")\n",
    "print(f\"{kelvin} grader Kelvin\")\n"
   ]
  },
  {
   "cell_type": "code",
   "execution_count": 32,
   "metadata": {
    "tags": []
   },
   "outputs": [
    {
     "output_type": "stream",
     "name": "stdout",
     "text": "Engångsbiljetter är billigare för dig\n"
    }
   ],
   "source": [
    "antalÅk = float(input(\"Hur många gånger i månaden åker du med västtrafik?\"))\n",
    "\n",
    "if antalÅk<26:\n",
    "    print(\"Engångsbiljetter är billigare för dig\")\n",
    "else: \n",
    "    print(\"Att köpa månadsbiljätter är billigare för dig.\")\n"
   ]
  },
  {
   "cell_type": "code",
   "execution_count": 7,
   "metadata": {
    "tags": []
   },
   "outputs": [
    {
     "output_type": "stream",
     "name": "stdout",
     "text": "Talet är negativt\n"
    }
   ],
   "source": [
    "tal = float(input(\"Skriv ditt tal här.\"))\n",
    "\n",
    "if tal>0:\n",
    "    print(\"Talet är positivt\")\n",
    "\n",
    "elif tal==0:\n",
    "    print(\"Talet är 0\")\n",
    "\n",
    "else:\n",
    "    print(\"Talet är negativt\")"
   ]
  },
  {
   "cell_type": "code",
   "execution_count": null,
   "metadata": {},
   "outputs": [],
   "source": []
  }
 ]
}